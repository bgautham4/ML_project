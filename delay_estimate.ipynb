{
 "cells": [
  {
   "cell_type": "code",
   "execution_count": 1,
   "id": "847daa5e-e344-4844-b442-59ae7701ca27",
   "metadata": {
    "tags": []
   },
   "outputs": [],
   "source": [
    "import pandas as pd"
   ]
  },
  {
   "cell_type": "code",
   "execution_count": 2,
   "id": "f6f6a959-36e2-4e3b-8d30-1f00108e89dd",
   "metadata": {
    "tags": []
   },
   "outputs": [],
   "source": [
    "import matplotlib.pyplot as plt"
   ]
  },
  {
   "cell_type": "code",
   "execution_count": 23,
   "id": "f84fb8de-153c-4807-9f55-5c1b2840b451",
   "metadata": {
    "tags": []
   },
   "outputs": [],
   "source": [
    "df = pd.read_csv(\"TATDescriptionDataset/RasberryPi.csv\")"
   ]
  },
  {
   "cell_type": "code",
   "execution_count": 24,
   "id": "2f8b7098-6d3e-425e-bd09-cde964d89676",
   "metadata": {
    "tags": []
   },
   "outputs": [
    {
     "data": {
      "text/html": [
       "<div>\n",
       "<style scoped>\n",
       "    .dataframe tbody tr th:only-of-type {\n",
       "        vertical-align: middle;\n",
       "    }\n",
       "\n",
       "    .dataframe tbody tr th {\n",
       "        vertical-align: top;\n",
       "    }\n",
       "\n",
       "    .dataframe thead th {\n",
       "        text-align: right;\n",
       "    }\n",
       "</style>\n",
       "<table border=\"1\" class=\"dataframe\">\n",
       "  <thead>\n",
       "    <tr style=\"text-align: right;\">\n",
       "      <th></th>\n",
       "      <th>Time</th>\n",
       "      <th>Execution Time</th>\n",
       "    </tr>\n",
       "  </thead>\n",
       "  <tbody>\n",
       "    <tr>\n",
       "      <th>0</th>\n",
       "      <td>Thu Nov 26 16:29:03 2020</td>\n",
       "      <td>3.167851</td>\n",
       "    </tr>\n",
       "    <tr>\n",
       "      <th>1</th>\n",
       "      <td>Thu Nov 26 16:29:05 2020</td>\n",
       "      <td>0.912467</td>\n",
       "    </tr>\n",
       "    <tr>\n",
       "      <th>2</th>\n",
       "      <td>Thu Nov 26 16:29:07 2020</td>\n",
       "      <td>1.013921</td>\n",
       "    </tr>\n",
       "    <tr>\n",
       "      <th>3</th>\n",
       "      <td>Thu Nov 26 16:29:09 2020</td>\n",
       "      <td>0.944200</td>\n",
       "    </tr>\n",
       "    <tr>\n",
       "      <th>4</th>\n",
       "      <td>Thu Nov 26 16:29:11 2020</td>\n",
       "      <td>0.916644</td>\n",
       "    </tr>\n",
       "    <tr>\n",
       "      <th>...</th>\n",
       "      <td>...</td>\n",
       "      <td>...</td>\n",
       "    </tr>\n",
       "    <tr>\n",
       "      <th>995</th>\n",
       "      <td>Thu Nov 26 17:03:04 2020</td>\n",
       "      <td>0.925363</td>\n",
       "    </tr>\n",
       "    <tr>\n",
       "      <th>996</th>\n",
       "      <td>Thu Nov 26 17:03:06 2020</td>\n",
       "      <td>0.916802</td>\n",
       "    </tr>\n",
       "    <tr>\n",
       "      <th>997</th>\n",
       "      <td>Thu Nov 26 17:03:08 2020</td>\n",
       "      <td>0.929213</td>\n",
       "    </tr>\n",
       "    <tr>\n",
       "      <th>998</th>\n",
       "      <td>Thu Nov 26 17:03:10 2020</td>\n",
       "      <td>1.024313</td>\n",
       "    </tr>\n",
       "    <tr>\n",
       "      <th>999</th>\n",
       "      <td>Thu Nov 26 17:03:12 2020</td>\n",
       "      <td>0.931123</td>\n",
       "    </tr>\n",
       "  </tbody>\n",
       "</table>\n",
       "<p>1000 rows × 2 columns</p>\n",
       "</div>"
      ],
      "text/plain": [
       "                         Time  Execution Time\n",
       "0    Thu Nov 26 16:29:03 2020        3.167851\n",
       "1    Thu Nov 26 16:29:05 2020        0.912467\n",
       "2    Thu Nov 26 16:29:07 2020        1.013921\n",
       "3    Thu Nov 26 16:29:09 2020        0.944200\n",
       "4    Thu Nov 26 16:29:11 2020        0.916644\n",
       "..                        ...             ...\n",
       "995  Thu Nov 26 17:03:04 2020        0.925363\n",
       "996  Thu Nov 26 17:03:06 2020        0.916802\n",
       "997  Thu Nov 26 17:03:08 2020        0.929213\n",
       "998  Thu Nov 26 17:03:10 2020        1.024313\n",
       "999  Thu Nov 26 17:03:12 2020        0.931123\n",
       "\n",
       "[1000 rows x 2 columns]"
      ]
     },
     "execution_count": 24,
     "metadata": {},
     "output_type": "execute_result"
    }
   ],
   "source": [
    "df"
   ]
  },
  {
   "cell_type": "code",
   "execution_count": 28,
   "id": "1538d212-e0c0-4ea2-80bd-ac7c0f87bb5d",
   "metadata": {
    "tags": []
   },
   "outputs": [
    {
     "data": {
      "text/plain": [
       "<matplotlib.collections.PathCollection at 0x7f447c48f2e0>"
      ]
     },
     "execution_count": 28,
     "metadata": {},
     "output_type": "execute_result"
    },
    {
     "data": {
      "image/png": "[encoded data removed]",
      "text/plain": [
       "<Figure size 640x480 with 1 Axes>"
      ]
     },
     "metadata": {},
     "output_type": "display_data"
    }
   ],
   "source": [
    "plt.scatter(range(1000),df[\"Execution Time\"],s=1)"
   ]
  },
  {
   "cell_type": "code",
   "execution_count": 17,
   "id": "36cadcca-4c97-4d8a-ac6a-e25191ff3fe3",
   "metadata": {
    "tags": []
   },
   "outputs": [
    {
     "data": {
      "text/plain": [
       "1000"
      ]
     },
     "execution_count": 17,
     "metadata": {},
     "output_type": "execute_result"
    }
   ],
   "source": [
    "len(df[\"Execution Time\"])"
   ]
  },
  {
   "cell_type": "code",
   "execution_count": null,
   "id": "228a8e8f-cb02-454a-858a-93f4b8aa8216",
   "metadata": {},
   "outputs": [],
   "source": []
  }
 ],
 "metadata": {
  "kernelspec": {
   "display_name": "Python 3 (ipykernel)",
   "language": "python",
   "name": "python3"
  },
  "language_info": {
   "codemirror_mode": {
    "name": "ipython",
    "version": 3
   },
   "file_extension": ".py",
   "mimetype": "text/x-python",
   "name": "python",
   "nbconvert_exporter": "python",
   "pygments_lexer": "ipython3",
   "version": "3.10.10"
  }
 },
 "nbformat": 4,
 "nbformat_minor": 5
}
